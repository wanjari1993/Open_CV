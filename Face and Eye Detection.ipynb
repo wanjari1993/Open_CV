{
 "cells": [
  {
   "cell_type": "markdown",
   "id": "e856d6b9",
   "metadata": {},
   "source": [
    "**Face Detection**"
   ]
  },
  {
   "cell_type": "code",
   "execution_count": 1,
   "id": "ce6a5e78",
   "metadata": {
    "scrolled": true
   },
   "outputs": [
    {
     "name": "stderr",
     "output_type": "stream",
     "text": [
      "<>:10: SyntaxWarning: \"is\" with a literal. Did you mean \"==\"?\n",
      "<>:10: SyntaxWarning: \"is\" with a literal. Did you mean \"==\"?\n"
     ]
    },
    {
     "ename": "error",
     "evalue": "OpenCV(4.7.0) D:\\a\\opencv-python\\opencv-python\\opencv\\modules\\imgproc\\src\\color.cpp:182: error: (-215:Assertion failed) !_src.empty() in function 'cv::cvtColor'\n",
     "output_type": "error",
     "traceback": [
      "\u001b[1;31m---------------------------------------------------------------------------\u001b[0m",
      "\u001b[1;31merror\u001b[0m                                     Traceback (most recent call last)",
      "Cell \u001b[1;32mIn[1], line 6\u001b[0m\n\u001b[0;32m      3\u001b[0m face_classifier\u001b[38;5;241m=\u001b[39mcv2\u001b[38;5;241m.\u001b[39mCascadeClassifier(\u001b[38;5;124mr\u001b[39m\u001b[38;5;124m'\u001b[39m\u001b[38;5;124mD:\u001b[39m\u001b[38;5;124m\\\u001b[39m\u001b[38;5;124mNaresh IT\u001b[39m\u001b[38;5;124m\\\u001b[39m\u001b[38;5;124mClass Notes\u001b[39m\u001b[38;5;124m\\\u001b[39m\u001b[38;5;124mCompleted\u001b[39m\u001b[38;5;124m\\\u001b[39m\u001b[38;5;124mDeep Learning (DL)\u001b[39m\u001b[38;5;124m\\\u001b[39m\u001b[38;5;124mFace and Eye Detection\u001b[39m\u001b[38;5;124m\\\u001b[39m\u001b[38;5;124mHaarcascades\u001b[39m\u001b[38;5;124m\\\u001b[39m\u001b[38;5;124mhaarcascade_frontalface_default.xml\u001b[39m\u001b[38;5;124m'\u001b[39m)\n\u001b[0;32m      5\u001b[0m image\u001b[38;5;241m=\u001b[39mcv2\u001b[38;5;241m.\u001b[39mimread(\u001b[38;5;124mr\u001b[39m\u001b[38;5;124m'\u001b[39m\u001b[38;5;124mD:\u001b[39m\u001b[38;5;124m\\\u001b[39m\u001b[38;5;124mNaresh IT\u001b[39m\u001b[38;5;124m\\\u001b[39m\u001b[38;5;124mClass Notes\u001b[39m\u001b[38;5;124m\\\u001b[39m\u001b[38;5;124mCompleted\u001b[39m\u001b[38;5;124m\\\u001b[39m\u001b[38;5;124mDeep Learning (DL)\u001b[39m\u001b[38;5;124m\\\u001b[39m\u001b[38;5;124mHappy-Sad Face Images\u001b[39m\u001b[38;5;124m\\\u001b[39m\u001b[38;5;124mHappy-Training\u001b[39m\u001b[38;5;124m\\\u001b[39m\u001b[38;5;124mHappy\u001b[39m\u001b[38;5;124m\\\u001b[39m\u001b[38;5;124mHappy1.jpg\u001b[39m\u001b[38;5;124m'\u001b[39m)\n\u001b[1;32m----> 6\u001b[0m gray\u001b[38;5;241m=\u001b[39m\u001b[43mcv2\u001b[49m\u001b[38;5;241;43m.\u001b[39;49m\u001b[43mcvtColor\u001b[49m\u001b[43m(\u001b[49m\u001b[43mimage\u001b[49m\u001b[43m,\u001b[49m\u001b[43m \u001b[49m\u001b[43mcv2\u001b[49m\u001b[38;5;241;43m.\u001b[39;49m\u001b[43mCOLOR_BGR2GRAY\u001b[49m\u001b[43m)\u001b[49m\n\u001b[0;32m      8\u001b[0m faces \u001b[38;5;241m=\u001b[39m face_classifier\u001b[38;5;241m.\u001b[39mdetectMultiScale(gray, \u001b[38;5;241m1.3\u001b[39m, \u001b[38;5;241m5\u001b[39m)\n\u001b[0;32m     10\u001b[0m \u001b[38;5;28;01mif\u001b[39;00m faces \u001b[38;5;129;01mis\u001b[39;00m ():\n",
      "\u001b[1;31merror\u001b[0m: OpenCV(4.7.0) D:\\a\\opencv-python\\opencv-python\\opencv\\modules\\imgproc\\src\\color.cpp:182: error: (-215:Assertion failed) !_src.empty() in function 'cv::cvtColor'\n"
     ]
    }
   ],
   "source": [
    "import numpy as np\n",
    "import cv2\n",
    "face_classifier=cv2.CascadeClassifier(r'D:\\Naresh IT\\Class Notes\\Completed\\Deep Learning (DL)\\Face and Eye Detection\\Haarcascades\\haarcascade_frontalface_default.xml')\n",
    "\n",
    "image=cv2.imread(r'D:\\Naresh IT\\Class Notes\\Completed\\Deep Learning (DL)\\Happy-Sad Face Images\\Happy-Training\\Happy\\Happy1.jpg')\n",
    "gray=cv2.cvtColor(image, cv2.COLOR_BGR2GRAY)\n",
    "\n",
    "faces = face_classifier.detectMultiScale(gray, 1.3, 5)\n",
    "\n",
    "if faces is ():\n",
    "    print(\"No Faces Found\")\n",
    "    \n",
    "    \n",
    "for (x, y, w, h) in faces:\n",
    "    cv2.rectangle(image, (x, y), (x+w, y+h), (127,0,255), 2)\n",
    "    cv2.imshow('Face Detection', image)\n",
    "    cv2.waitKey(0)\n",
    "    \n",
    "cv2.destroyAllWindows()"
   ]
  },
  {
   "cell_type": "markdown",
   "id": "2577ba4a",
   "metadata": {},
   "source": [
    "**Combine Face and Eye Detection**"
   ]
  },
  {
   "cell_type": "code",
   "execution_count": 2,
   "id": "9249e87f",
   "metadata": {},
   "outputs": [],
   "source": [
    "import numpy as np\n",
    "import cv2"
   ]
  },
  {
   "cell_type": "code",
   "execution_count": 3,
   "id": "d09f1e18",
   "metadata": {},
   "outputs": [
    {
     "name": "stderr",
     "output_type": "stream",
     "text": [
      "<>:9: SyntaxWarning: \"is\" with a literal. Did you mean \"==\"?\n",
      "<>:9: SyntaxWarning: \"is\" with a literal. Did you mean \"==\"?\n"
     ]
    },
    {
     "ename": "error",
     "evalue": "OpenCV(4.7.0) D:\\a\\opencv-python\\opencv-python\\opencv\\modules\\imgproc\\src\\color.cpp:182: error: (-215:Assertion failed) !_src.empty() in function 'cv::cvtColor'\n",
     "output_type": "error",
     "traceback": [
      "\u001b[1;31m---------------------------------------------------------------------------\u001b[0m",
      "\u001b[1;31merror\u001b[0m                                     Traceback (most recent call last)",
      "Cell \u001b[1;32mIn[3], line 5\u001b[0m\n\u001b[0;32m      2\u001b[0m eye_classifier\u001b[38;5;241m=\u001b[39mcv2\u001b[38;5;241m.\u001b[39mCascadeClassifier(\u001b[38;5;124mr\u001b[39m\u001b[38;5;124m\"\u001b[39m\u001b[38;5;124mD:\u001b[39m\u001b[38;5;124m\\\u001b[39m\u001b[38;5;124mNaresh IT\u001b[39m\u001b[38;5;124m\\\u001b[39m\u001b[38;5;124mClass Notes\u001b[39m\u001b[38;5;124m\\\u001b[39m\u001b[38;5;124mCompleted\u001b[39m\u001b[38;5;124m\\\u001b[39m\u001b[38;5;124mDeep Learning (DL)\u001b[39m\u001b[38;5;124m\\\u001b[39m\u001b[38;5;124mFace and Eye Detection\u001b[39m\u001b[38;5;124m\\\u001b[39m\u001b[38;5;124mHaarcascades\u001b[39m\u001b[38;5;124m\\\u001b[39m\u001b[38;5;124mhaarcascade_eye.xml\u001b[39m\u001b[38;5;124m\"\u001b[39m)\n\u001b[0;32m      4\u001b[0m img\u001b[38;5;241m=\u001b[39mcv2\u001b[38;5;241m.\u001b[39mimread(\u001b[38;5;124mr\u001b[39m\u001b[38;5;124m\"\u001b[39m\u001b[38;5;124mD:\u001b[39m\u001b[38;5;124m\\\u001b[39m\u001b[38;5;124mNaresh IT\u001b[39m\u001b[38;5;124m\\\u001b[39m\u001b[38;5;124mClass Notes\u001b[39m\u001b[38;5;124m\\\u001b[39m\u001b[38;5;124mCompleted\u001b[39m\u001b[38;5;124m\\\u001b[39m\u001b[38;5;124mDeep Learning (DL)\u001b[39m\u001b[38;5;124m\\\u001b[39m\u001b[38;5;124mHappy-Sad Face Images\u001b[39m\u001b[38;5;124m\\\u001b[39m\u001b[38;5;124mHappy-Training\u001b[39m\u001b[38;5;124m\\\u001b[39m\u001b[38;5;124mHappy\u001b[39m\u001b[38;5;124m\\\u001b[39m\u001b[38;5;124mSad.jpg\u001b[39m\u001b[38;5;124m\"\u001b[39m)\n\u001b[1;32m----> 5\u001b[0m gray\u001b[38;5;241m=\u001b[39m\u001b[43mcv2\u001b[49m\u001b[38;5;241;43m.\u001b[39;49m\u001b[43mcvtColor\u001b[49m\u001b[43m \u001b[49m\u001b[43m(\u001b[49m\u001b[43mimg\u001b[49m\u001b[43m,\u001b[49m\u001b[43m \u001b[49m\u001b[43mcv2\u001b[49m\u001b[38;5;241;43m.\u001b[39;49m\u001b[43mCOLOR_BGR2GRAY\u001b[49m\u001b[43m)\u001b[49m\n\u001b[0;32m      7\u001b[0m faces \u001b[38;5;241m=\u001b[39m face_classifier\u001b[38;5;241m.\u001b[39mdetectMultiScale(gray, \u001b[38;5;241m1.3\u001b[39m, \u001b[38;5;241m5\u001b[39m)\n\u001b[0;32m      9\u001b[0m \u001b[38;5;28;01mif\u001b[39;00m faces \u001b[38;5;129;01mis\u001b[39;00m ():\n",
      "\u001b[1;31merror\u001b[0m: OpenCV(4.7.0) D:\\a\\opencv-python\\opencv-python\\opencv\\modules\\imgproc\\src\\color.cpp:182: error: (-215:Assertion failed) !_src.empty() in function 'cv::cvtColor'\n"
     ]
    }
   ],
   "source": [
    "face_classifier=cv2.CascadeClassifier(r\"D:\\Naresh IT\\Class Notes\\Completed\\Deep Learning (DL)\\Face and Eye Detection\\Haarcascades\\haarcascade_frontalface_default.xml\")\n",
    "eye_classifier=cv2.CascadeClassifier(r\"D:\\Naresh IT\\Class Notes\\Completed\\Deep Learning (DL)\\Face and Eye Detection\\Haarcascades\\haarcascade_eye.xml\")\n",
    "\n",
    "img=cv2.imread(r\"D:\\Naresh IT\\Class Notes\\Completed\\Deep Learning (DL)\\Happy-Sad Face Images\\Happy-Training\\Happy\\Sad.jpg\")\n",
    "gray=cv2.cvtColor (img, cv2.COLOR_BGR2GRAY)\n",
    "\n",
    "faces = face_classifier.detectMultiScale(gray, 1.3, 5)\n",
    "\n",
    "if faces is ():\n",
    "    print(\"No Face Found\")\n",
    "\n",
    "for (x, y, w, h) in faces:\n",
    "    cv2.rectangle(img,(x,y), (x+w, y+h), (127, 0, 255), 2)\n",
    "    cv2.imshow('img', img)\n",
    "    cv2.waitKey(0)\n",
    "    roi_gray = gray[y:y+h, x:x+w]\n",
    "    roi_color=img[y:y+h, x:x+w]\n",
    "    eyes = eye_classifier.detectMultiScale(roi_gray)\n",
    "    \n",
    "for (ex, ey, ew, eh) in eyes:\n",
    "    cv2.rectangle(roi_color, (ex, ey), (ex+ew, ey+eh), (255, 255, 0), 2)\n",
    "    cv2.imshow('img', img)\n",
    "    cv2.waitKey(0)\n",
    "    \n",
    "cv2.destroyAllWindows()"
   ]
  },
  {
   "cell_type": "markdown",
   "id": "4b047894",
   "metadata": {},
   "source": [
    "**Live Face and Eye Detection**"
   ]
  },
  {
   "cell_type": "code",
   "execution_count": 4,
   "id": "5280e8d8",
   "metadata": {},
   "outputs": [
    {
     "name": "stderr",
     "output_type": "stream",
     "text": [
      "<>:10: SyntaxWarning: \"is\" with a literal. Did you mean \"==\"?\n",
      "<>:10: SyntaxWarning: \"is\" with a literal. Did you mean \"==\"?\n",
      "C:\\Users\\wanja\\AppData\\Local\\Temp\\ipykernel_9004\\818974212.py:10: SyntaxWarning: \"is\" with a literal. Did you mean \"==\"?\n",
      "  if faces is ():\n"
     ]
    },
    {
     "ename": "KeyboardInterrupt",
     "evalue": "",
     "output_type": "error",
     "traceback": [
      "\u001b[1;31m---------------------------------------------------------------------------\u001b[0m",
      "\u001b[1;31mKeyboardInterrupt\u001b[0m                         Traceback (most recent call last)",
      "Cell \u001b[1;32mIn[4], line 33\u001b[0m\n\u001b[0;32m     29\u001b[0m cap \u001b[38;5;241m=\u001b[39m cv2\u001b[38;5;241m.\u001b[39mVideoCapture(\u001b[38;5;241m0\u001b[39m)\n\u001b[0;32m     31\u001b[0m \u001b[38;5;28;01mwhile\u001b[39;00m \u001b[38;5;28;01mTrue\u001b[39;00m:\n\u001b[1;32m---> 33\u001b[0m     ret, frame \u001b[38;5;241m=\u001b[39m \u001b[43mcap\u001b[49m\u001b[38;5;241;43m.\u001b[39;49m\u001b[43mread\u001b[49m\u001b[43m(\u001b[49m\u001b[43m)\u001b[49m\n\u001b[0;32m     34\u001b[0m     cv2\u001b[38;5;241m.\u001b[39mimshow(\u001b[38;5;124m'\u001b[39m\u001b[38;5;124mOur Face Extractor\u001b[39m\u001b[38;5;124m'\u001b[39m, face_detector(frame))\n\u001b[0;32m     35\u001b[0m     \u001b[38;5;28;01mif\u001b[39;00m cv2\u001b[38;5;241m.\u001b[39mwaitKey(\u001b[38;5;241m1\u001b[39m) \u001b[38;5;241m==\u001b[39m \u001b[38;5;241m13\u001b[39m:\n",
      "\u001b[1;31mKeyboardInterrupt\u001b[0m: "
     ]
    }
   ],
   "source": [
    "import cv2\n",
    "import numpy as np\n",
    "\n",
    "face_classifier = cv2.CascadeClassifier(r\"D:\\Naresh IT\\Class Notes\\Completed\\Deep Learning (DL)\\Face and Eye Detection\\Haarcascades\\haarcascade_frontalface_default.xml\")\n",
    "eye_classifier = cv2.CascadeClassifier(r\"D:\\Naresh IT\\Class Notes\\Completed\\Deep Learning (DL)\\Face and Eye Detection\\Haarcascades\\haarcascade_eye.xml\")\n",
    "\n",
    "def face_detector(img, size=0.5):\n",
    "    gray = cv2.cvtColor(img,cv2.COLOR_BGR2GRAY)\n",
    "    faces = face_classifier.detectMultiScale(gray, 1.3, 5)\n",
    "    if faces is ():\n",
    "        return img\n",
    "    \n",
    "    for (x,y,w,h) in faces:\n",
    "        x = x - 50\n",
    "        w = w + 50\n",
    "        y = y - 50\n",
    "        h = h + 50\n",
    "        cv2.rectangle(img,(x,y),(x+w,y+h),(255,0,0),2)\n",
    "        roi_gray = gray[y:y+h, x:x+w]\n",
    "        roi_color = img[y:y+h, x:x+w]\n",
    "        eyes = eye_classifier.detectMultiScale(roi_gray)\n",
    "        \n",
    "        for (ex,ey,ew,eh) in eyes:\n",
    "            cv2.rectangle(roi_color,(ex,ey),(ex+ew,ey+eh),(0,0,255),2) \n",
    "            \n",
    "    roi_color = cv2.flip(roi_color,1)\n",
    "    return roi_color\n",
    "\n",
    "cap = cv2.VideoCapture(0)\n",
    "\n",
    "while True:\n",
    "\n",
    "    ret, frame = cap.read()\n",
    "    cv2.imshow('Our Face Extractor', face_detector(frame))\n",
    "    if cv2.waitKey(1) == 13:\n",
    "        break\n",
    "        \n",
    "cap.release()\n",
    "cv2.destroyAllWindows()      "
   ]
  },
  {
   "cell_type": "markdown",
   "id": "d5934f5f",
   "metadata": {},
   "source": [
    "**Face and Eye Detection through Videos**"
   ]
  },
  {
   "cell_type": "code",
   "execution_count": 1,
   "id": "330dbe83",
   "metadata": {},
   "outputs": [],
   "source": [
    "import cv2\n",
    "\n",
    "face_cascade = cv2.CascadeClassifier(r\"D:\\Naresh IT\\Class Notes\\Completed\\Deep Learning (DL)\\Face and Eye Detection\\Haarcascades\\haarcascade_frontalface_default.xml\")\n",
    "eye_cascade = cv2.CascadeClassifier(r\"D:\\Naresh IT\\Class Notes\\Completed\\Deep Learning (DL)\\Face and Eye Detection\\Haarcascades\\haarcascade_eye.xml\")\n",
    "\n",
    "def detect(gray, frame):\n",
    "    faces = face_cascade.detectMultiScale(gray, 1.3, 5)\n",
    "    for (x, y, w, h) in faces:\n",
    "        cv2.rectangle(frame, (x, y), (x+w, y+h), (255, 0, 0), 2)\n",
    "        roi_gray = gray[y:y+h, x:x+w]\n",
    "        roi_color = frame[y:y+h, x:x+w]\n",
    "        eyes = eye_cascade.detectMultiScale(roi_gray, 1.1, 3)\n",
    "        for (ex, ey, ew, eh) in eyes:\n",
    "            cv2.rectangle(roi_color, (ex, ey), (ex+ew, ey+eh), (0, 255, 0), 2)\n",
    "    return frame\n",
    "\n",
    "video_capture = cv2.VideoCapture(0)\n",
    "while True:\n",
    "    _, frame = video_capture.read()\n",
    "    gray = cv2.cvtColor(frame, cv2.COLOR_BGR2GRAY)\n",
    "    canvas = detect(gray, frame)\n",
    "    cv2.imshow('Video', canvas)\n",
    "    if cv2.waitKey(1) & 0xFF == ord('q'):\n",
    "        break\n",
    "video_capture.release()\n",
    "cv2.destroyAllWindows()"
   ]
  },
  {
   "cell_type": "code",
   "execution_count": null,
   "id": "d94d0fd3",
   "metadata": {},
   "outputs": [],
   "source": []
  }
 ],
 "metadata": {
  "kernelspec": {
   "display_name": "Python 3 (ipykernel)",
   "language": "python",
   "name": "python3"
  },
  "language_info": {
   "codemirror_mode": {
    "name": "ipython",
    "version": 3
   },
   "file_extension": ".py",
   "mimetype": "text/x-python",
   "name": "python",
   "nbconvert_exporter": "python",
   "pygments_lexer": "ipython3",
   "version": "3.10.11"
  }
 },
 "nbformat": 4,
 "nbformat_minor": 5
}
